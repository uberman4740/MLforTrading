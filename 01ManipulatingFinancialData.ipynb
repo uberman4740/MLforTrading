{
 "cells": [
  {
   "cell_type": "markdown",
   "metadata": {},
   "source": [
    "### 1.1 Reading and Plotting Stock Data"
   ]
  },
  {
   "cell_type": "code",
   "execution_count": 10,
   "metadata": {
    "collapsed": true
   },
   "outputs": [],
   "source": [
    "import pandas as pd\n",
    "import matplotlib.pyplot as plt"
   ]
  },
  {
   "cell_type": "markdown",
   "metadata": {},
   "source": [
    "#### Read CSV"
   ]
  },
  {
   "cell_type": "code",
   "execution_count": 6,
   "metadata": {
    "collapsed": false
   },
   "outputs": [
    {
     "name": "stdout",
     "output_type": "stream",
     "text": [
      "         Date        Open        High         Low       Close    Volume  \\\n",
      "0  2016-08-05  106.269997  107.650002  106.180000  107.480003  38415400   \n",
      "1  2016-08-04  105.580002  106.000000  105.279999  105.870003  27408700   \n",
      "2  2016-08-03  104.809998  105.839996  104.769997  105.790001  30202600   \n",
      "3  2016-08-02  106.050003  106.070000  104.000000  104.480003  33816600   \n",
      "4  2016-08-01  104.410004  106.150002  104.410004  106.050003  38167900   \n",
      "\n",
      "    Adj Close  \n",
      "0  107.480003  \n",
      "1  105.870003  \n",
      "2  105.220002  \n",
      "3  103.917063  \n",
      "4  105.478603  \n",
      "            Date       Open       High     Low   Close     Volume  Adj Close\n",
      "8985  1980-12-18  26.625000  26.750000  26.625  26.625   18362400   0.397323\n",
      "8986  1980-12-17  25.875000  25.999999  25.875  25.875   21610400   0.386130\n",
      "8987  1980-12-16  25.375000  25.375000  25.250  25.250   26432000   0.376804\n",
      "8988  1980-12-15  27.375001  27.375001  27.250  27.250   43971200   0.406649\n",
      "8989  1980-12-12  28.750000  28.875000  28.750  28.750  117258400   0.429034\n"
     ]
    }
   ],
   "source": [
    "def run():\n",
    "    df = pd.read_csv(\"data/APPL.csv\")\n",
    "    print df.head()\n",
    "    print df.tail()\n",
    "    \n",
    "if __name__ == \"__main__\":\n",
    "    run()"
   ]
  },
  {
   "cell_type": "markdown",
   "metadata": {},
   "source": [
    "#### compute max closing price"
   ]
  },
  {
   "cell_type": "code",
   "execution_count": 8,
   "metadata": {
    "collapsed": false
   },
   "outputs": [
    {
     "name": "stdout",
     "output_type": "stream",
     "text": [
      "Max Close\n",
      "APPL 702.100021\n",
      "Max Close\n",
      "IBM 649.000015\n"
     ]
    }
   ],
   "source": [
    "def get_max_close(symbol):\n",
    "    df = pd.read_csv(\"data/{}.csv\".format(symbol))\n",
    "    return df[\"Close\"].max()\n",
    "\n",
    "def run():\n",
    "    for symbol in [\"APPL\", \"IBM\"]:\n",
    "        print \"Max Close\"\n",
    "        print symbol, get_max_close(symbol)\n",
    "        \n",
    "if __name__ == \"__main__\":\n",
    "    run()"
   ]
  },
  {
   "cell_type": "markdown",
   "metadata": {},
   "source": [
    "#### compute mean volume"
   ]
  },
  {
   "cell_type": "code",
   "execution_count": 9,
   "metadata": {
    "collapsed": false
   },
   "outputs": [
    {
     "name": "stdout",
     "output_type": "stream",
     "text": [
      "Mean Volume\n",
      "APPL 91302202.6585\n",
      "Mean Volume\n",
      "IBM 4886525.16007\n"
     ]
    }
   ],
   "source": [
    "def get_mean_volume(symbol):\n",
    "    df = pd.read_csv(\"data/{}.csv\".format(symbol))\n",
    "    return df[\"Volume\"].mean()\n",
    "\n",
    "def run():\n",
    "    for symbol in [\"APPL\",\"IBM\"]:\n",
    "        print \"Mean Volume\"\n",
    "        print symbol, get_mean_volume(symbol)\n",
    "        \n",
    "        \n",
    "if __name__ == \"__main__\":\n",
    "    run()"
   ]
  },
  {
   "cell_type": "markdown",
   "metadata": {},
   "source": [
    "#### plot high price for IBM"
   ]
  },
  {
   "cell_type": "code",
   "execution_count": 16,
   "metadata": {
    "collapsed": true
   },
   "outputs": [],
   "source": [
    "def run():\n",
    "    df = pd.read_csv(\"data/IBM.csv\")\n",
    "    df[\"High\"].plot()\n",
    "    plt.show()\n",
    "    \n",
    "if __name__ == \"__main__\":\n",
    "    run()"
   ]
  },
  {
   "cell_type": "markdown",
   "metadata": {},
   "source": [
    "#### plot two columns"
   ]
  },
  {
   "cell_type": "code",
   "execution_count": 17,
   "metadata": {
    "collapsed": true
   },
   "outputs": [],
   "source": [
    "def run():\n",
    "    df = pd.read_csv(\"data/APPL.csv\")\n",
    "    df[[\"Close\", \"Adj Close\"]].plot()\n",
    "    plt.show()\n",
    "    \n",
    "if __name__ == \"__main__\":\n",
    "    run()"
   ]
  },
  {
   "cell_type": "markdown",
   "metadata": {},
   "source": [
    "### 1.2 Working with Multiple Stocks"
   ]
  },
  {
   "cell_type": "code",
   "execution_count": 55,
   "metadata": {
    "collapsed": true
   },
   "outputs": [],
   "source": [
    "import pandas as pd\n",
    "import os"
   ]
  },
  {
   "cell_type": "markdown",
   "metadata": {},
   "source": [
    "#### create an empty dataframe"
   ]
  },
  {
   "cell_type": "code",
   "execution_count": 22,
   "metadata": {
    "collapsed": false
   },
   "outputs": [
    {
     "name": "stdout",
     "output_type": "stream",
     "text": [
      "DatetimeIndex(['2010-01-22', '2010-01-23', '2010-01-24', '2010-01-25',\n",
      "               '2010-01-26'],\n",
      "              dtype='datetime64[ns]', freq='D')\n",
      "2010-01-22 00:00:00\n",
      "2010-01-23 00:00:00\n",
      "2010-01-24 00:00:00\n",
      "2010-01-25 00:00:00\n",
      "2010-01-26 00:00:00\n"
     ]
    }
   ],
   "source": [
    "def run():\n",
    "    #Define date range\n",
    "    start_date = \"2010-01-22\"\n",
    "    end_date = \"2010-01-26\"\n",
    "    dates = pd.date_range(start_date, end_date)\n",
    "    #dates: DatetimeIndex class\n",
    "    print dates\n",
    "    for i in range(len(dates)):\n",
    "        print dates[i]\n",
    "    \n",
    "if __name__ == \"__main__\":\n",
    "    run()"
   ]
  },
  {
   "cell_type": "code",
   "execution_count": 24,
   "metadata": {
    "collapsed": false
   },
   "outputs": [
    {
     "name": "stdout",
     "output_type": "stream",
     "text": [
      "Empty DataFrame\n",
      "Columns: []\n",
      "Index: [2010-01-22 00:00:00, 2010-01-23 00:00:00, 2010-01-24 00:00:00, 2010-01-25 00:00:00, 2010-01-26 00:00:00]\n"
     ]
    }
   ],
   "source": [
    "def run():\n",
    "    start_date = \"2010-01-22\"\n",
    "    end_date = \"2010-01-26\"\n",
    "    dates = pd.date_range(start_date, end_date)\n",
    "    \n",
    "    df1 = pd.DataFrame(index=dates)\n",
    "    print df1\n",
    "    \n",
    "if __name__ == \"__main__\":\n",
    "    run()"
   ]
  },
  {
   "cell_type": "markdown",
   "metadata": {},
   "source": [
    "#### join SPY data"
   ]
  },
  {
   "cell_type": "code",
   "execution_count": 52,
   "metadata": {
    "collapsed": false
   },
   "outputs": [
    {
     "name": "stdout",
     "output_type": "stream",
     "text": [
      "             Adj Close\n",
      "Date                  \n",
      "2016-08-05  218.179993\n",
      "2016-08-04  216.410004\n",
      "2016-08-03  216.179993\n",
      "2016-08-02  215.550003\n",
      "2016-08-01  216.940002\n",
      "Empty DataFrame\n",
      "Columns: []\n",
      "Index: [2010-01-22 00:00:00, 2010-01-23 00:00:00, 2010-01-24 00:00:00, 2010-01-25 00:00:00, 2010-01-26 00:00:00]\n",
      "            Adj Close\n",
      "2010-01-22  95.682624\n",
      "2010-01-25  96.173257\n",
      "2010-01-26  95.770236\n"
     ]
    }
   ],
   "source": [
    "def run():\n",
    "    #Define date range\n",
    "    start_date = \"2010-01-22\"\n",
    "    end_date = \"2010-01-26\"\n",
    "    dates = pd.date_range(start_date, end_date)\n",
    "    \n",
    "    #Create an empty dataframe\n",
    "    df1 = pd.DataFrame(index=dates)\n",
    "    \n",
    "    #Read in SPY data\n",
    "    dfSPY = pd.read_csv(\"data/SPY.csv\", \n",
    "                       index_col = \"Date\", \n",
    "                       parse_dates = True, \n",
    "                       usecols = [\"Date\", \"Adj Close\"], \n",
    "                       na_values = [\"NaN\"])\n",
    "    #parse_dates=True let the Date be DatetimeIndex class\n",
    "    print dfSPY.head()\n",
    "    \n",
    "    #df1 = df1.join(dfSPY, how=\"inner\")\n",
    "    print df1\n",
    "    \n",
    "    #OR:\n",
    "    df1 = df1.join(dfSPY)\n",
    "    df1 = df1.dropna()\n",
    "    print df1\n",
    "    \n",
    "if __name__ == \"__main__\":\n",
    "    run()"
   ]
  },
  {
   "cell_type": "markdown",
   "metadata": {},
   "source": [
    "#### read in more stocks"
   ]
  },
  {
   "cell_type": "code",
   "execution_count": 48,
   "metadata": {
    "collapsed": false
   },
   "outputs": [
    {
     "name": "stdout",
     "output_type": "stream",
     "text": [
      "                  SPY        GOOG         IBM         GLD\n",
      "2010-01-26  95.770236  270.939526  108.502085  107.559998\n",
      "2010-01-25  96.173257  269.730740  108.821338  107.480003\n",
      "2010-01-22  95.682624  274.730736  108.286375  107.169998\n"
     ]
    }
   ],
   "source": [
    "def run():\n",
    "    #Define the date range\n",
    "    start_date = \"2010-01-22\"\n",
    "    end_date = \"2010-01-26\"\n",
    "    dates = pd.date_range(start_date, end_date)\n",
    "    \n",
    "    #create an empty dataframe\n",
    "    df1 = pd.DataFrame(index = dates)\n",
    "    \n",
    "    #read in SPY data\n",
    "    dfSPY = pd.read_csv(\"data/SPY.csv\", \n",
    "                       index_col = \"Date\",\n",
    "                       parse_dates = True,\n",
    "                       usecols = [\"Date\", \"Adj Close\"],\n",
    "                       na_values = [\"nan\"])\n",
    "    \n",
    "    #rename \"Adj Close\" column to \"SPY\"\n",
    "    dfSPY = dfSPY.rename(columns = {\"Adj Close\":\"SPY\"})\n",
    "    \n",
    "    #df1 join SPY\n",
    "    df1 = df1.join(dfSPY, how=\"inner\")\n",
    "    \n",
    "    #read in more stocks\n",
    "    symbols = [\"GOOG\", \"IBM\", \"GLD\"]\n",
    "    for symbol in symbols:\n",
    "        df = pd.read_csv(\"data/{}.csv\".format(symbol),\n",
    "                        index_col = \"Date\",\n",
    "                        parse_dates = True,\n",
    "                        usecols = [\"Date\", \"Adj Close\"],\n",
    "                        na_values = [\"nan\"])\n",
    "        \n",
    "        df = df.rename(columns = {\"Adj Close\":symbol})\n",
    "        \n",
    "        df1 = df1.join(df) #use default how=\"left\"\n",
    "        \n",
    "    print df1\n",
    "    \n",
    "\n",
    "if __name__ == \"__main__\":\n",
    "    run()\n",
    "    "
   ]
  },
  {
   "cell_type": "markdown",
   "metadata": {},
   "source": [
    "#### Utility function for reading data"
   ]
  },
  {
   "cell_type": "code",
   "execution_count": 54,
   "metadata": {
    "collapsed": false
   },
   "outputs": [
    {
     "name": "stdout",
     "output_type": "stream",
     "text": [
      "                  SPY        GOOG         IBM         GLD\n",
      "2010-01-22  95.682624  274.730736  108.286375  107.169998\n",
      "2010-01-25  96.173257  269.730740  108.821338  107.480003\n",
      "2010-01-26  95.770236  270.939526  108.502085  107.559998\n"
     ]
    }
   ],
   "source": [
    "import os\n",
    "import pandas as pd\n",
    "\n",
    "def symbol_to_path(symbol, base_dir=\"data\"):\n",
    "    return os.path.join(base_dir, \"{}.csv\".format(str(symbol)))\n",
    "\n",
    "def get_data(symbols, dates):\n",
    "    \"\"\"return a data frame for given symbols\"\"\"\n",
    "    \n",
    "    df = pd.DataFrame(index = dates)\n",
    "    \n",
    "    if \"SPY\" not in symbols:\n",
    "        symbols.insert(0, \"SPY\")\n",
    "    \n",
    "    for symbol in symbols:\n",
    "        df_temp = pd.read_csv(symbol_to_path(symbol),\n",
    "                             index_col = \"Date\",\n",
    "                             parse_dates = True,\n",
    "                             usecols = [\"Date\", \"Adj Close\"],\n",
    "                             na_values = [\"nan\"])\n",
    "        \n",
    "        df_temp = df_temp.rename(columns = {\"Adj Close\":symbol})\n",
    "        \n",
    "        df = df.join(df_temp) #use default how=\"left\"\n",
    "        \n",
    "        if symbol == \"SPY\":\n",
    "            df = df.dropna(subset = [\"SPY\"])\n",
    "            \n",
    "    return df\n",
    "\n",
    "def run():\n",
    "    dates = pd.date_range(\"2010-01-22\", \"2010-01-26\")\n",
    "    \n",
    "    symbols = [\"GOOG\", \"IBM\", \"GLD\"]\n",
    "    \n",
    "    df = get_data(symbols, dates)\n",
    "    print df\n",
    "    \n",
    "if __name__ == \"__main__\":\n",
    "    run()\n",
    "        "
   ]
  },
  {
   "cell_type": "markdown",
   "metadata": {},
   "source": [
    "#### data frame slicing"
   ]
  },
  {
   "cell_type": "code",
   "execution_count": 57,
   "metadata": {
    "collapsed": false
   },
   "outputs": [
    {
     "name": "stdout",
     "output_type": "stream",
     "text": [
      "                   SPY        GOOG         IBM         GLD\n",
      "2010-01-04   99.292299  313.062468  114.283108  109.800003\n",
      "2010-01-05   99.555135  311.683844  112.902572  109.699997\n",
      "2010-01-06   99.625228  303.826685  112.169153  111.510002\n",
      "2010-01-07  100.045775  296.753749  111.780878  110.820000\n",
      "2010-01-08  100.378704  300.709808  112.902572  111.370003\n",
      "2010-01-11  100.518888  300.255255  111.720473  112.849998\n",
      "2010-01-12   99.581425  294.945572  112.609197  110.489998\n",
      "2010-01-13  100.422513  293.252243  112.367603  111.540001\n",
      "2010-01-14  100.694113  294.630868  114.162311  112.029999\n",
      "2010-01-15   99.563899  289.710772  113.705007  110.860001\n",
      "2010-01-19  100.808008  293.516976  115.741309  111.519997\n",
      "2010-01-20   99.782932  289.915587  112.384863  108.940002\n",
      "2010-01-21   97.864196  291.199286  111.306313  107.370003\n",
      "2010-01-22   95.682624  274.730736  108.286375  107.169998\n",
      "2010-01-25   96.173257  269.730740  108.821338  107.480003\n",
      "2010-01-26   95.770236  270.939526  108.502085  107.559998\n",
      "2010-01-27   96.225829  270.779695  109.002533  106.529999\n",
      "2010-01-28   95.121898  266.878565  106.776405  106.480003\n",
      "2010-01-29   94.088059  264.705742  105.602943  105.959999\n",
      "                  GOOG\n",
      "2010-01-04  313.062468\n",
      "2010-01-05  311.683844\n",
      "2010-01-06  303.826685\n",
      "2010-01-07  296.753749\n",
      "2010-01-08  300.709808\n",
      "2010-01-11  300.255255\n",
      "2010-01-12  294.945572\n",
      "2010-01-13  293.252243\n",
      "2010-01-14  294.630868\n",
      "2010-01-15  289.710772\n",
      "2010-01-19  293.516976\n",
      "2010-01-20  289.915587\n",
      "2010-01-21  291.199286\n",
      "2010-01-22  274.730736\n",
      "2010-01-25  269.730740\n",
      "2010-01-26  270.939526\n",
      "2010-01-27  270.779695\n",
      "2010-01-28  266.878565\n",
      "2010-01-29  264.705742\n",
      "2010-02-01  266.244198\n",
      "2010-02-02  265.295156\n",
      "2010-02-03  270.140309\n",
      "2010-02-04  263.127321\n",
      "2010-02-05  265.380075\n",
      "2010-02-08  266.468996\n",
      "2010-02-09  267.952522\n",
      "2010-02-10  266.958496\n",
      "2010-02-11  267.932539\n",
      "2010-02-12  266.294170\n",
      "2010-02-16  270.380071\n",
      "...                ...\n",
      "2010-11-18  297.982518\n",
      "2010-11-19  295.120398\n",
      "2010-11-22  295.315176\n",
      "2010-11-23  291.214281\n",
      "2010-11-24  297.188320\n",
      "2010-11-26  294.705810\n",
      "2010-11-29  290.764746\n",
      "2010-11-30  277.577891\n",
      "2010-12-01  281.893579\n",
      "2010-12-02  285.624871\n",
      "2010-12-03  286.214284\n",
      "2010-12-06  288.891602\n",
      "2010-12-07  293.277214\n",
      "2010-12-08  294.975531\n",
      "2010-12-09  295.455055\n",
      "2010-12-10  295.809695\n",
      "2010-12-13  297.013494\n",
      "2010-12-14  297.158361\n",
      "2010-12-15  294.855666\n",
      "2010-12-16  295.559957\n",
      "2010-12-17  295.105404\n",
      "2010-12-20  297.233273\n",
      "2010-12-21  301.234286\n",
      "2010-12-22  302.443073\n",
      "2010-12-23  301.813693\n",
      "2010-12-27  300.889622\n",
      "2010-12-28  299.161346\n",
      "2010-12-29  300.200325\n",
      "2010-12-30  299.131387\n",
      "2010-12-31  296.688813\n",
      "\n",
      "[252 rows x 1 columns]\n",
      "                   IBM         GLD\n",
      "2010-01-04  114.283108  109.800003\n",
      "2010-01-05  112.902572  109.699997\n",
      "2010-01-06  112.169153  111.510002\n",
      "2010-01-07  111.780878  110.820000\n",
      "2010-01-08  112.902572  111.370003\n",
      "2010-01-11  111.720473  112.849998\n",
      "2010-01-12  112.609197  110.489998\n",
      "2010-01-13  112.367603  111.540001\n",
      "2010-01-14  114.162311  112.029999\n",
      "2010-01-15  113.705007  110.860001\n",
      "2010-01-19  115.741309  111.519997\n",
      "2010-01-20  112.384863  108.940002\n",
      "2010-01-21  111.306313  107.370003\n",
      "2010-01-22  108.286375  107.169998\n",
      "2010-01-25  108.821338  107.480003\n",
      "2010-01-26  108.502085  107.559998\n",
      "2010-01-27  109.002533  106.529999\n",
      "2010-01-28  106.776405  106.480003\n",
      "2010-01-29  105.602943  105.959999\n",
      "2010-02-01  107.570216  108.349998\n",
      "2010-02-02  108.312259  109.129997\n",
      "2010-02-03  108.424432  108.699997\n",
      "2010-02-04  106.129276  104.370003\n",
      "2010-02-05  106.577949  104.680000\n",
      "2010-02-08  105.633248  104.040001\n",
      "2010-02-09  106.785959  105.410004\n",
      "2010-02-10  106.439278  105.120003\n",
      "2010-02-11  107.236646  107.129997\n",
      "2010-02-12  107.470651  107.040001\n",
      "2010-02-16  108.536694  109.620003\n",
      "...                ...         ...\n",
      "2010-11-18  126.942709  132.089996\n",
      "2010-11-19  127.549462  132.199997\n",
      "2010-11-22  127.848437  133.479996\n",
      "2010-11-23  125.905071  134.410004\n",
      "2010-11-24  128.217762  134.179993\n",
      "2010-11-26  126.538203  133.110001\n",
      "2010-11-29  125.650066  133.509995\n",
      "2010-11-30  124.392605  135.419998\n",
      "2010-12-01  126.986679  135.380005\n",
      "2010-12-02  127.663768  135.199997\n",
      "2010-12-03  127.839648  138.070007\n",
      "2010-12-06  127.496703  139.110001\n",
      "2010-12-07  126.643734  136.500000\n",
      "2010-12-08  127.487901  134.789993\n",
      "2010-12-09  126.889951  135.369995\n",
      "2010-12-10  127.347215  135.410004\n",
      "2010-12-13  126.872360  136.050003\n",
      "2010-12-14  128.226564  136.179993\n",
      "2010-12-15  127.259275  134.699997\n",
      "2010-12-16  127.109788  133.809998\n",
      "2010-12-17  127.505492  134.199997\n",
      "2010-12-20  127.074606  135.110001\n",
      "2010-12-21  128.156214  135.320007\n",
      "2010-12-22  128.340870  135.050003\n",
      "2010-12-23  128.288111  134.660004\n",
      "2010-12-27  127.804467  135.020004\n",
      "2010-12-28  128.129835  137.220001\n",
      "2010-12-29  128.842105  137.710007\n",
      "2010-12-30  128.974002  137.029999\n",
      "2010-12-31  129.053140  138.720001\n",
      "\n",
      "[252 rows x 2 columns]\n",
      "                   SPY         IBM\n",
      "2010-03-10  100.729159  108.874706\n",
      "2010-03-11  101.149700  110.590766\n",
      "2010-03-12  101.158463  110.885447\n",
      "2010-03-15  101.184746  110.790109\n"
     ]
    }
   ],
   "source": [
    "import os\n",
    "import pandas as pd\n",
    "\n",
    "def symbol_to_path(symbol, base_dir=\"data\"):\n",
    "    return os.path.join(base_dir, \"{}.csv\".format(str(symbol)))\n",
    "\n",
    "def get_data(symbols, dates):\n",
    "    \"\"\"return a data frame for given symbols\"\"\"\n",
    "    \n",
    "    df = pd.DataFrame(index = dates)\n",
    "    if \"SPY\" not in symbols:\n",
    "        symbols.insert(0, \"SPY\")\n",
    "    \n",
    "    for symbol in symbols:\n",
    "        df_temp = pd.read_csv(symbol_to_path(symbol),\n",
    "                             index_col = \"Date\",\n",
    "                             parse_dates = True,\n",
    "                             usecols = [\"Date\", \"Adj Close\"],\n",
    "                             na_values = [\"nan\"])\n",
    "        df_temp = df_temp.rename(columns = {\"Adj Close\":symbol})\n",
    "        df = df.join(df_temp) #use default how=\"left\"\n",
    "        if symbol == \"SPY\":\n",
    "            df = df.dropna(subset = [\"SPY\"])        \n",
    "    return df\n",
    "\n",
    "def run():\n",
    "    dates = pd.date_range(\"2010-01-01\", \"2010-12-31\")\n",
    "    symbols = [\"GOOG\", \"IBM\", \"GLD\"]\n",
    "    df = get_data(symbols, dates)\n",
    "    \n",
    "    #row slicing:\n",
    "    print df.ix[\"2010-01-01\":\"2010-01-31\"] #the month of Janurary\n",
    "    \n",
    "    #column slicing:\n",
    "    print df[[\"GOOG\"]]\n",
    "    print df[[\"IBM\",\"GLD\"]]\n",
    "    \n",
    "    #row and column slicing\n",
    "    print df.ix[\"2010-03-10\":\"2010-03-15\",[\"SPY\",\"IBM\"]]\n",
    "    \n",
    "    \n",
    "if __name__ == \"__main__\":\n",
    "    run()"
   ]
  },
  {
   "cell_type": "markdown",
   "metadata": {},
   "source": [
    "#### Plotting multiple stocks"
   ]
  },
  {
   "cell_type": "code",
   "execution_count": 60,
   "metadata": {
    "collapsed": true
   },
   "outputs": [],
   "source": [
    "import os\n",
    "import pandas as pd\n",
    "import matplotlib.pyplot as plt\n",
    "\n",
    "def symbol_to_path(symbol, base_dir=\"data\"):\n",
    "    return os.path.join(base_dir, \"{}.csv\".format(str(symbol)))\n",
    "\n",
    "def get_data(symbols, dates):\n",
    "    \"\"\"return a data frame for given symbols\"\"\"\n",
    "    \n",
    "    df = pd.DataFrame(index = dates)\n",
    "    if \"SPY\" not in symbols:\n",
    "        symbols.insert(0, \"SPY\")\n",
    "    \n",
    "    for symbol in symbols:\n",
    "        df_temp = pd.read_csv(symbol_to_path(symbol),\n",
    "                             index_col = \"Date\",\n",
    "                             parse_dates = True,\n",
    "                             usecols = [\"Date\", \"Adj Close\"],\n",
    "                             na_values = [\"nan\"])\n",
    "        df_temp = df_temp.rename(columns = {\"Adj Close\":symbol})\n",
    "        df = df.join(df_temp) #use default how=\"left\"\n",
    "        if symbol == \"SPY\":\n",
    "            df = df.dropna(subset = [\"SPY\"])        \n",
    "    return df\n",
    "\n",
    "def plot_data(df, title=\"Stock Prices\"):\n",
    "    \"\"\"plot stock prices\"\"\"\n",
    "    ax = df.plot(title=title)\n",
    "    ax.set_xlabel(\"Date\")\n",
    "    ax.set_ylabel(\"Price\")\n",
    "    plt.show()\n",
    "\n",
    "def run():\n",
    "    dates = pd.date_range(\"2010-01-01\", \"2010-12-31\")\n",
    "    symbols = [\"GOOG\", \"IBM\", \"GLD\"]\n",
    "    df = get_data(symbols, dates)\n",
    "    \n",
    "    #plot stock prices\n",
    "    plot_data(df)\n",
    "    \n",
    "if __name__ == \"__main__\":\n",
    "    run()"
   ]
  },
  {
   "cell_type": "markdown",
   "metadata": {},
   "source": [
    "#### normalizing"
   ]
  },
  {
   "cell_type": "code",
   "execution_count": 62,
   "metadata": {
    "collapsed": true
   },
   "outputs": [],
   "source": [
    "import os\n",
    "import pandas as pd\n",
    "import matplotlib.pyplot as plt\n",
    "\n",
    "def symbol_to_path(symbol, base_dir=\"data\"):\n",
    "    return os.path.join(base_dir, \"{}.csv\".format(str(symbol)))\n",
    "\n",
    "def get_data(symbols, dates):\n",
    "    \"\"\"return a data frame for given symbols\"\"\"\n",
    "    \n",
    "    df = pd.DataFrame(index = dates)\n",
    "    if \"SPY\" not in symbols:\n",
    "        symbols.insert(0, \"SPY\")\n",
    "    \n",
    "    for symbol in symbols:\n",
    "        df_temp = pd.read_csv(symbol_to_path(symbol),\n",
    "                             index_col = \"Date\",\n",
    "                             parse_dates = True,\n",
    "                             usecols = [\"Date\", \"Adj Close\"],\n",
    "                             na_values = [\"nan\"])\n",
    "        df_temp = df_temp.rename(columns = {\"Adj Close\":symbol})\n",
    "        df = df.join(df_temp) #use default how=\"left\"\n",
    "        if symbol == \"SPY\":\n",
    "            df = df.dropna(subset = [\"SPY\"])        \n",
    "    return df\n",
    "\n",
    "def plot_data(df, title=\"Stock Prices\"):\n",
    "    \"\"\"plot stock prices\"\"\"\n",
    "    ax = df.plot(title=title)\n",
    "    ax.set_xlabel(\"Date\")\n",
    "    ax.set_ylabel(\"Price\")\n",
    "    plt.show()\n",
    "    \n",
    "def normalize_data(df):\n",
    "    return df / df.ix[0,:]\n",
    "\n",
    "def run():\n",
    "    dates = pd.date_range(\"2010-01-01\", \"2010-12-31\")\n",
    "    symbols = [\"GOOG\", \"IBM\", \"GLD\"]\n",
    "    df = get_data(symbols, dates)\n",
    "    df = normalize_data(df)\n",
    "    \n",
    "    #plot stock prices\n",
    "    plot_data(df, title =\"Normalized Prices\")\n",
    "    \n",
    "if __name__ == \"__main__\":\n",
    "    run()"
   ]
  },
  {
   "cell_type": "markdown",
   "metadata": {},
   "source": [
    "### 1.3 Numpy"
   ]
  },
  {
   "cell_type": "code",
   "execution_count": 63,
   "metadata": {
    "collapsed": true
   },
   "outputs": [],
   "source": [
    "import numpy as np"
   ]
  },
  {
   "cell_type": "markdown",
   "metadata": {},
   "source": [
    "#### creating numpy arrays"
   ]
  },
  {
   "cell_type": "code",
   "execution_count": 64,
   "metadata": {
    "collapsed": false
   },
   "outputs": [
    {
     "name": "stdout",
     "output_type": "stream",
     "text": [
      "[2 3 4]\n",
      "[[2 3 4]\n",
      " [4 5 6]]\n"
     ]
    }
   ],
   "source": [
    "import numpy as np\n",
    "\n",
    "def run():\n",
    "    #1d array\n",
    "    print np.array([2,3,4])\n",
    "    \n",
    "    #2d array\n",
    "    print np.array([[2,3,4],[4,5,6]])\n",
    "    \n",
    "if __name__ == \"__main__\":\n",
    "    run()"
   ]
  },
  {
   "cell_type": "markdown",
   "metadata": {},
   "source": [
    "#### arrays with initial values"
   ]
  },
  {
   "cell_type": "code",
   "execution_count": 74,
   "metadata": {
    "collapsed": false
   },
   "outputs": [
    {
     "name": "stdout",
     "output_type": "stream",
     "text": [
      "[  0.  23.  46.  69.  92.]\n",
      "[[  4.94065646e-324   4.94065646e-324   4.94065646e-324   4.94065646e-324]\n",
      " [  4.94065646e-324   4.94065646e-324   4.94065646e-324   4.94065646e-324]\n",
      " [  4.94065646e-324   4.94065646e-324   4.94065646e-324   4.94065646e-324]\n",
      " [  4.94065646e-324   4.94065646e-324   4.94065646e-324   4.94065646e-324]\n",
      " [  4.94065646e-324   4.94065646e-324   4.94065646e-324   4.94065646e-324]]\n",
      "[[ 1.  1.  1.  1.]\n",
      " [ 1.  1.  1.  1.]\n",
      " [ 1.  1.  1.  1.]\n",
      " [ 1.  1.  1.  1.]\n",
      " [ 1.  1.  1.  1.]]\n",
      "[[1 1 1 1]\n",
      " [1 1 1 1]\n",
      " [1 1 1 1]\n",
      " [1 1 1 1]\n",
      " [1 1 1 1]]\n"
     ]
    }
   ],
   "source": [
    "def run():\n",
    "    #empty array, elements are floating numbers\n",
    "    print np.empty(5) #1d\n",
    "    print np.empty((5,4)) #2d\n",
    "    \n",
    "    #array of 1s,  \n",
    "    print np.ones((5,4)) #elements are floating numbers\n",
    "    print np.ones((5,4), dtype=np.int)\n",
    "    \n",
    "if __name__ == \"__main__\":\n",
    "    run()"
   ]
  },
  {
   "cell_type": "code",
   "execution_count": null,
   "metadata": {
    "collapsed": true
   },
   "outputs": [],
   "source": []
  }
 ],
 "metadata": {
  "kernelspec": {
   "display_name": "Python 2",
   "language": "python",
   "name": "python2"
  },
  "language_info": {
   "codemirror_mode": {
    "name": "ipython",
    "version": 2
   },
   "file_extension": ".py",
   "mimetype": "text/x-python",
   "name": "python",
   "nbconvert_exporter": "python",
   "pygments_lexer": "ipython2",
   "version": "2.7.11"
  }
 },
 "nbformat": 4,
 "nbformat_minor": 0
}
