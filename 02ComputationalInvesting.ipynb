{
 "cells": [
  {
   "cell_type": "markdown",
   "metadata": {},
   "source": [
    "### 2.1 Be a hedge fund manager"
   ]
  },
  {
   "cell_type": "markdown",
   "metadata": {},
   "source": [
    "#### Types of funds"
   ]
  },
  {
   "cell_type": "markdown",
   "metadata": {},
   "source": [
    "|Exchange-Traded Fund(ETF) | Mutual Fund| Hedge Fund|\n",
    "|----|----|----|\n",
    "|Buy/Sell like stocks| Buy/Sell at end of day|Buy/Sell by agreement|\n",
    "|Baskets of Stocks|Quartely disclosure| No disclosure|\n",
    "|Transparent| Less transparent| No transparent|\n"
   ]
  },
  {
   "cell_type": "markdown",
   "metadata": {},
   "source": [
    "terms:  \n",
    "- liquid: the ease with which one can buy or sell shares in a particular holding.\n",
    "- Large cap: #shares*price is large"
   ]
  },
  {
   "cell_type": "markdown",
   "metadata": {},
   "source": [
    "#### how are fund mnagers compensated?"
   ]
  },
  {
   "cell_type": "markdown",
   "metadata": {},
   "source": [
    "1. ETFs: Expense Ratio 0.01% - 1.00%\n",
    "2. Mutual Funds: Expense Ratio 0.5% - 3.00%\n",
    "3. Hedge Funds: Two and Twenty. 2% Expense Ratio and 20% profit\n",
    "\n",
    "terms: \n",
    "- Assets Under Management(AUM): total amount of money being managed by the fund.\n",
    "- Expense Ratio: some percentage of AUM"
   ]
  },
  {
   "cell_type": "markdown",
   "metadata": {},
   "source": [
    "#### Hedge fund goals and metrics"
   ]
  },
  {
   "cell_type": "markdown",
   "metadata": {},
   "source": [
    "1. Goals:\n",
    "    - beat a benchmark: SP500\n",
    "    - absolute return: Long/Short\n",
    "2. Metrics:\n",
    "    - cumulative return = (val[-1]/val[0])-1\n",
    "    - volatility = daily_rets.std()\n",
    "    - Risk/Reward: $SR = \\sqrt{252} \\frac{\\text{mean(daily_rets - rf)}}{\\text{daily_rets.std()}}$"
   ]
  },
  {
   "cell_type": "markdown",
   "metadata": {},
   "source": [
    "### 2.2 Market Mechanics"
   ]
  },
  {
   "cell_type": "markdown",
   "metadata": {},
   "source": [
    "#### What is in an order?\n",
    "1. Buy or Sell\n",
    "2. Symbol\n",
    "3. #shares\n",
    "4. Limit or Market\n",
    "5. Price\n",
    "\n",
    "e.g. : Buy, IBM, 100, Limit, 99.95  \n",
    "e.g. : Sell, GOOG, 150, Market"
   ]
  },
  {
   "cell_type": "markdown",
   "metadata": {},
   "source": [
    "#### The order book"
   ]
  },
  {
   "cell_type": "markdown",
   "metadata": {},
   "source": [
    "|BID/ASK|Price|Size|\n",
    "|---|---|---|\n",
    "|ASK|100.10|100|\n",
    "|ASK|100.05|500|\n",
    "|ASK|100.00|1000|\n",
    "|BID|99.95|100|\n",
    "|BID|99.90|50|\n",
    "|BID|99.85|50|"
   ]
  },
  {
   "cell_type": "markdown",
   "metadata": {},
   "source": [
    "#### Additional order types"
   ]
  },
  {
   "cell_type": "markdown",
   "metadata": {},
   "source": [
    "Exchanges:\n",
    "- Buy or Sell\n",
    "- Market or Limit\n",
    "  \n",
    "Broker:\n",
    "- Stop loss\n",
    "- Stop gain\n",
    "- Trailing Stop\n",
    "- Sell Short"
   ]
  },
  {
   "cell_type": "markdown",
   "metadata": {
    "collapsed": true
   },
   "source": [
    "### 2.3 What is a company worth?"
   ]
  },
  {
   "cell_type": "markdown",
   "metadata": {},
   "source": [
    "1. Intrinsic Value: based on future dividends\n",
    "2. Book Value: split the company up into pieces and sold them\n",
    "3. Market Capitalization: #shares * price  \n",
    "\n",
    "Typically, Book Value is the lowest price among these three."
   ]
  },
  {
   "cell_type": "markdown",
   "metadata": {},
   "source": [
    "### 2.4 The Capital Assets Pricing Model (CAPM)"
   ]
  },
  {
   "cell_type": "markdown",
   "metadata": {},
   "source": [
    "#### Definition of a portfolio"
   ]
  },
  {
   "cell_type": "markdown",
   "metadata": {},
   "source": [
    "e.g.: ORCL:20%, GOOG:-20%, APPL:20%  \n",
    "\n",
    "1. $w_{i}$: portion of funds in asset $i$\n",
    "2. $\\sum_{i} |w_{i}| = 1.0$\n",
    "3. $r_{p}(t) = \\sum_{i} w_{i}r_{i}(t)$, where $r$ denotes the return."
   ]
  },
  {
   "cell_type": "markdown",
   "metadata": {},
   "source": [
    "Assume:  \n",
    "Stock A: +1%  \n",
    "Stock B: -2%  \n",
    "$w_{A}$ = 75%  \n",
    "$w_{B}$ = -25%  \n",
    "  \n",
    "Then $r_{p}$ = 1.25%"
   ]
  },
  {
   "cell_type": "markdown",
   "metadata": {},
   "source": [
    "#### The Market Portfolio"
   ]
  },
  {
   "cell_type": "markdown",
   "metadata": {},
   "source": [
    "1. Markets:\n",
    "    - US: SP500\n",
    "    - UK: FTA\n",
    "    - Japan: TOPIx\n",
    "    \n",
    "2. Cap Weighted\n",
    "    - $w_{i} = \\frac{mktcap_{i}}{\\sum_{j}mktcap_{j}}$, where mktcap = #shares * price  \n",
    "    \n",
    "3. Sectors:\n",
    "    - Energy, Technology, Manufactuing, Finance,...10"
   ]
  },
  {
   "cell_type": "markdown",
   "metadata": {},
   "source": [
    "#### The CARM equation"
   ]
  },
  {
   "cell_type": "markdown",
   "metadata": {},
   "source": [
    "$$r_{i}(t) = \\beta_{i}r_{m}(t) + \\alpha_{i}(t)$$  \n",
    "where $r_{m}(t)$ is the market return of the stock $i$ on the day $t$.  \n",
    "$\\alpha_{i}(t)$ is called residual.  \n",
    "  \n",
    "The CAPM equation says that a significant portion of the return for a particular stock is due to the market.   \n",
    "Also, CAPM says $E(\\alpha_{i}(t)) = 0$"
   ]
  },
  {
   "cell_type": "markdown",
   "metadata": {},
   "source": [
    "#### CAPM vs Active Management"
   ]
  },
  {
   "cell_type": "markdown",
   "metadata": {},
   "source": [
    "- passive(CAPM): buy inde and hold\n",
    "- active: pick stocks\n",
    "\n"
   ]
  },
  {
   "cell_type": "markdown",
   "metadata": {},
   "source": [
    "For equation $r_{i}(t) = \\beta_{i}r_{m}(t) + \\alpha_{i}(t)$  \n",
    "  \n",
    "- CAPM says $\\alpha_{i}(t)$ is random and $E(\\alpha_{i}(t)) = 0$  \n",
    "\n",
    "- Activie manages believe they can predict $\\alpha$"
   ]
  },
  {
   "cell_type": "markdown",
   "metadata": {},
   "source": [
    "#### CAPM for portfolios"
   ]
  },
  {
   "cell_type": "markdown",
   "metadata": {},
   "source": [
    "$$r_{p}(t) = \\sum_{i} w_{i} r_{i}(t)\n",
    "= \\sum_{i} w_{i} (\\beta_{i}r_{m}(t) + \\alpha_{i}(t)) $$"
   ]
  },
  {
   "cell_type": "markdown",
   "metadata": {},
   "source": [
    "Let $\\beta_{p} = \\sum_{i} w_{i}\\beta_{i}$, then CAPM becomes\n",
    "$$ r_{p}(t) = \\beta_{p}r_{m}(t) + \\alpha_{p}(t)$$ where $E(\\alpha_{p}) = 0$.  \n",
    "Also, for active manager, the equation becomes\n",
    "$$r_{p}(t) = \\beta_{p}r_{m}(t) + \\sum_{i}w_{i}\\alpha_{i}(t)$$"
   ]
  },
  {
   "cell_type": "markdown",
   "metadata": {},
   "source": [
    "#### Implications of CAPM:\n",
    "1. Only way to beat market is choose $\\beta$\n",
    "2. choose high $\\beta$ in up market\n",
    "3. choose low $\\beta$ in down market\n",
    "4. Efficient Market Hypothesis(EMH) says you cannot predict the market"
   ]
  },
  {
   "cell_type": "markdown",
   "metadata": {},
   "source": [
    "#### Arbitrage Pricing Theory (APT)\n",
    "- Stephen Ross 1976\n",
    "\n",
    "In $r_{i} = \\beta_{i}r_{m} + \\alpha_{i}$, $\\beta_{i}r_{m}$ can be devided into several sectors."
   ]
  },
  {
   "cell_type": "markdown",
   "metadata": {},
   "source": [
    "### 2.5 How hedge fund use the CAPM"
   ]
  },
  {
   "cell_type": "markdown",
   "metadata": {},
   "source": [
    "#### Two stock scenario"
   ]
  },
  {
   "cell_type": "markdown",
   "metadata": {},
   "source": [
    "A: predict +1%($\\alpha_{A}$) over market, $\\beta_{A}=1.0$, long 50usd  \n",
    "B: predict -1%($\\alpha_{B}$) below market, $\\beta_{B} = 2.0$, short -50usd  \n",
    "Also, $r_{m} =$0%"
   ]
  },
  {
   "cell_type": "markdown",
   "metadata": {},
   "source": [
    "Then:  \n",
    "$r_{A} = \\beta_{A}*r_{m} + \\alpha_{A} = 1.0*0 + 1\\% = 1\\%$  \n",
    "$r_{B} = \\beta_{B}*r_{m} + \\alpha_{B} = 2.0*0 - 1\\% = -1\\%$  \n",
    "Since:  \n",
    "$w_{A}=0.5 \\text{ and } w_{B}=-0.5$  \n",
    "So, $r_{p} = 0.5*1\\% + (-0.5)*(-1\\%) = 1\\%$"
   ]
  },
  {
   "cell_type": "markdown",
   "metadata": {},
   "source": [
    "Quiz:  \n",
    "if $r_{m}=10\\%$, then:  \n",
    "$r_{A} = \\beta_{A}*r_{m} + \\alpha_{A} = 1.0*10\\% + 1\\% = 11\\%$  \n",
    "$r_{B} = \\beta_{B}*r_{m} + \\alpha_{B} = 2.0*10\\% - 1\\% = -19\\%$   \n",
    "So, $r_{p} = 0.5*11\\% + (-0.5)*(19\\%) = 4\\%$"
   ]
  },
  {
   "cell_type": "markdown",
   "metadata": {},
   "source": [
    "#### Tow stock CAPM math"
   ]
  },
  {
   "cell_type": "markdown",
   "metadata": {},
   "source": [
    "$\n",
    "r_{p} = w_{A}*r_{A} + w_{B}*r_{B}\n",
    "= w_{A}*(\\beta_{A}*r_{m} + \\alpha_{A}) + w_{B}*(\\beta_{B}*r_{m} + \\alpha_{B})\n",
    "= (w_{A}*\\beta_{A}+w_{B}*\\beta_{B})r_{m} + w_{A}*\\alpha_{A}+w_{B}*\\alpha_{B}\n",
    "=(0.5*1 -0.5*2)r_{m} + 1\\%\n",
    "= -0.5r_{m} + 1\\%\n",
    "$"
   ]
  },
  {
   "cell_type": "markdown",
   "metadata": {},
   "source": [
    "Goal: remove the part $-0.5r_{m}$  \n",
    "How to do this?  \n",
    "find $w_{A}$ and $w_{B}$ such that $w_{A}*\\beta_{A}+w_{B}*\\beta_{B} = 0$"
   ]
  },
  {
   "cell_type": "markdown",
   "metadata": {},
   "source": [
    "Since $|w_{A}| + |w_{B}| = 1$, we can solve the above equation:  \n",
    "$w_{A} = 0.667$ and $w_{B} = -0.333$"
   ]
  },
  {
   "cell_type": "markdown",
   "metadata": {},
   "source": [
    "### 2.6 Technical Anlysis"
   ]
  },
  {
   "cell_type": "markdown",
   "metadata": {},
   "source": [
    "#### Characteristics of Technical Analysis  \n",
    "1. What is it? \n",
    "    - historical price and volume only\n",
    "    - compute statistics called indicators\n",
    "    - indicators are heuristics\n",
    "\n",
    "2. why it might work?\n",
    "    - there is information in price\n",
    "    - heuristics work"
   ]
  },
  {
   "cell_type": "markdown",
   "metadata": {},
   "source": [
    "#### When is Technical Analysis effective?  \n",
    "1. Individual indicators weak\n",
    "2. Combinations stronger\n",
    "3. Look for contrasts (stock vs market)\n",
    "4. works better shorter time periods"
   ]
  },
  {
   "cell_type": "markdown",
   "metadata": {},
   "source": [
    "#### A few good indicators"
   ]
  },
  {
   "cell_type": "markdown",
   "metadata": {},
   "source": [
    "1. momentum: m[n] = price[t]/price[t-n] - 1, n-days momentum, range(-0.5, 0.5)\n",
    "2. simple moving average: SMA[t] = price[t]/price[t-n:t].mean() - 1, range (-0.5, 0.5)  \n",
    "3. Bollinger Band: BB[t]=(price[t]-price[t-n:t].mean())/(2*price[t-n:t].std()), range(-1, 1)"
   ]
  },
  {
   "cell_type": "markdown",
   "metadata": {},
   "source": [
    "#### Normalization"
   ]
  },
  {
   "cell_type": "markdown",
   "metadata": {},
   "source": [
    "Since SMA, momentum, BB, etc have different ranges, we may want to normalize them to have range(-1, 1) before analyzing.  \n",
    "$$normed = \\frac{values - mean}{value.std()}$$"
   ]
  },
  {
   "cell_type": "markdown",
   "metadata": {},
   "source": [
    "### 2.7 Dealing with Data"
   ]
  },
  {
   "cell_type": "markdown",
   "metadata": {},
   "source": [
    "#### How data is aggregated?"
   ]
  },
  {
   "cell_type": "markdown",
   "metadata": {},
   "source": [
    "1. open\n",
    "2. high\n",
    "3. low\n",
    "4. close\n",
    "5. volume"
   ]
  },
  {
   "cell_type": "markdown",
   "metadata": {},
   "source": [
    "#### Stock splits"
   ]
  },
  {
   "cell_type": "markdown",
   "metadata": {},
   "source": [
    "1. Why? price too high\n",
    "2. problems\n",
    "3. solution: adjusted close"
   ]
  },
  {
   "cell_type": "markdown",
   "metadata": {},
   "source": [
    "#### Adjusting for dividends"
   ]
  },
  {
   "cell_type": "markdown",
   "metadata": {},
   "source": [
    "#### Survivor Bias"
   ]
  },
  {
   "cell_type": "markdown",
   "metadata": {},
   "source": [
    "### 2.8 Efficient Markets Hypothesis"
   ]
  },
  {
   "cell_type": "markdown",
   "metadata": {},
   "source": [
    "#### EMH assumptions"
   ]
  },
  {
   "cell_type": "markdown",
   "metadata": {},
   "source": [
    "1. Large number of investors\n",
    "2. New information arrives randomly\n",
    "3. Prices adjust quickly\n",
    "4. Prices reflect all available information"
   ]
  },
  {
   "cell_type": "markdown",
   "metadata": {},
   "source": [
    "#### Where does information come from?\n",
    "1. Price/Volume\n",
    "2. Fundamental\n",
    "3. Eogenous: info about the world that effects the company\n",
    "4. Company insiders"
   ]
  },
  {
   "cell_type": "markdown",
   "metadata": {},
   "source": [
    "#### 3 forms of the EMH"
   ]
  },
  {
   "cell_type": "markdown",
   "metadata": {},
   "source": [
    "1. weak: future prices cannot predicted by analyzing historical prices.\n",
    "2. semi-strong: prices adjust rapidly to new public information.\n",
    "3. strong: prices reflect all information public and private"
   ]
  },
  {
   "cell_type": "markdown",
   "metadata": {},
   "source": [
    "### 2.9 The Fundamental Law of active portfolio management"
   ]
  },
  {
   "cell_type": "markdown",
   "metadata": {},
   "source": [
    "#### Grinold's Fundamental Law"
   ]
  },
  {
   "cell_type": "markdown",
   "metadata": {},
   "source": [
    "- Performance\n",
    "- Skill\n",
    "- Breadth\n",
    "\n",
    "$$performance = skill * \\sqrt{breadth}$$"
   ]
  },
  {
   "cell_type": "code",
   "execution_count": null,
   "metadata": {
    "collapsed": true
   },
   "outputs": [],
   "source": []
  }
 ],
 "metadata": {
  "kernelspec": {
   "display_name": "Python 2",
   "language": "python",
   "name": "python2"
  },
  "language_info": {
   "codemirror_mode": {
    "name": "ipython",
    "version": 2
   },
   "file_extension": ".py",
   "mimetype": "text/x-python",
   "name": "python",
   "nbconvert_exporter": "python",
   "pygments_lexer": "ipython2",
   "version": "2.7.11"
  }
 },
 "nbformat": 4,
 "nbformat_minor": 0
}
