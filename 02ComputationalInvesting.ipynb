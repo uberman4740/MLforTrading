{
 "cells": [
  {
   "cell_type": "markdown",
   "metadata": {},
   "source": [
    "### 2.1 Be a hedge fund manager"
   ]
  },
  {
   "cell_type": "markdown",
   "metadata": {},
   "source": [
    "#### Types of funds"
   ]
  },
  {
   "cell_type": "markdown",
   "metadata": {},
   "source": [
    "|Exchange-Traded Fund(ETF) | Mutual Fund| Hedge Fund|\n",
    "|----|----|----|\n",
    "|Buy/Sell like stocks| Buy/Sell at end of day|Buy/Sell by agreement|\n",
    "|Baskets of Stocks|Quartely disclosure| No disclosure|\n",
    "|Transparent| Less transparent| No transparent|\n"
   ]
  },
  {
   "cell_type": "markdown",
   "metadata": {},
   "source": [
    "terms:  \n",
    "- liquid: the ease with which one can buy or sell shares in a particular holding.\n",
    "- Large cap: #shares*price is large"
   ]
  },
  {
   "cell_type": "markdown",
   "metadata": {},
   "source": [
    "#### how are fund mnagers compensated?"
   ]
  },
  {
   "cell_type": "markdown",
   "metadata": {},
   "source": [
    "1. ETFs: Expense Ratio 0.01% - 1.00%\n",
    "2. Mutual Funds: Expense Ratio 0.5% - 3.00%\n",
    "3. Hedge Funds: Two and Twenty. 2% Expense Ratio and 20% profit\n",
    "\n",
    "terms: \n",
    "- Assets Under Management(AUM): total amount of money being managed by the fund.\n",
    "- Expense Ratio: some percentage of AUM"
   ]
  },
  {
   "cell_type": "markdown",
   "metadata": {},
   "source": [
    "#### Hedge fund goals and metrics"
   ]
  },
  {
   "cell_type": "markdown",
   "metadata": {},
   "source": [
    "1. Goals:\n",
    "    - beat a benchmark: SP500\n",
    "    - absolute return: Long/Short\n",
    "2. Metrics:\n",
    "    - cumulative return = (val[-1]/val[0])-1\n",
    "    - volatility = daily_rets.std()\n",
    "    - Risk/Reward: $SR = \\sqrt{252} \\frac{\\text{mean(daily_rets - rf)}}{\\text{daily_rets.std()}}$"
   ]
  },
  {
   "cell_type": "markdown",
   "metadata": {},
   "source": [
    "### 2.2 Market Mechanics"
   ]
  },
  {
   "cell_type": "markdown",
   "metadata": {},
   "source": [
    "#### What is in an order?\n",
    "1. Buy or Sell\n",
    "2. Symbol\n",
    "3. #shares\n",
    "4. Limit or Market\n",
    "5. Price\n",
    "\n",
    "e.g. : Buy, IBM, 100, Limit, 99.95  \n",
    "e.g. : Sell, GOOG, 150, Market"
   ]
  },
  {
   "cell_type": "markdown",
   "metadata": {},
   "source": [
    "#### The order book"
   ]
  },
  {
   "cell_type": "markdown",
   "metadata": {},
   "source": [
    "|BID/ASK|Price|Size|\n",
    "|---|---|---|\n",
    "|ASK|100.10|100|\n",
    "|ASK|100.05|500|\n",
    "|ASK|100.00|1000|\n",
    "|BID|99.95|100|\n",
    "|BID|99.90|50|\n",
    "|BID|99.85|50|"
   ]
  },
  {
   "cell_type": "markdown",
   "metadata": {},
   "source": [
    "#### Additional order types"
   ]
  },
  {
   "cell_type": "markdown",
   "metadata": {},
   "source": [
    "Exchanges:\n",
    "- Buy or Sell\n",
    "- Market or Limit\n",
    "  \n",
    "Broker:\n",
    "- Stop loss\n",
    "- Stop gain\n",
    "- Trailing Stop\n",
    "- Sell Short"
   ]
  },
  {
   "cell_type": "code",
   "execution_count": null,
   "metadata": {
    "collapsed": true
   },
   "outputs": [],
   "source": []
  }
 ],
 "metadata": {
  "kernelspec": {
   "display_name": "Python 2",
   "language": "python",
   "name": "python2"
  },
  "language_info": {
   "codemirror_mode": {
    "name": "ipython",
    "version": 2
   },
   "file_extension": ".py",
   "mimetype": "text/x-python",
   "name": "python",
   "nbconvert_exporter": "python",
   "pygments_lexer": "ipython2",
   "version": "2.7.11"
  }
 },
 "nbformat": 4,
 "nbformat_minor": 0
}
